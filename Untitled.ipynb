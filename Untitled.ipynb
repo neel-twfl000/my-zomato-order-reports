{
 "cells": [
  {
   "cell_type": "code",
   "execution_count": 120,
   "id": "aa4c89e3-fd01-4dc6-b8f3-346d05d8090b",
   "metadata": {},
   "outputs": [],
   "source": [
    "import pandas as pd\n",
    "import numpy as np\n",
    "from matplotlib import pyplot as plt"
   ]
  },
  {
   "cell_type": "code",
   "execution_count": 21,
   "id": "9504c3fc-487c-4536-9e3b-1f5587f9f312",
   "metadata": {},
   "outputs": [
    {
     "data": {
      "text/html": [
       "<div>\n",
       "<style scoped>\n",
       "    .dataframe tbody tr th:only-of-type {\n",
       "        vertical-align: middle;\n",
       "    }\n",
       "\n",
       "    .dataframe tbody tr th {\n",
       "        vertical-align: top;\n",
       "    }\n",
       "\n",
       "    .dataframe thead th {\n",
       "        text-align: right;\n",
       "    }\n",
       "</style>\n",
       "<table border=\"1\" class=\"dataframe\">\n",
       "  <thead>\n",
       "    <tr style=\"text-align: right;\">\n",
       "      <th></th>\n",
       "      <th>OrderNo</th>\n",
       "      <th>StoreName</th>\n",
       "      <th>Cost</th>\n",
       "      <th>Location</th>\n",
       "      <th>Date</th>\n",
       "      <th>Status</th>\n",
       "      <th>Day</th>\n",
       "      <th>Month</th>\n",
       "      <th>Year</th>\n",
       "    </tr>\n",
       "  </thead>\n",
       "  <tbody>\n",
       "    <tr>\n",
       "      <th>0</th>\n",
       "      <td>6017991178</td>\n",
       "      <td>KFC</td>\n",
       "      <td>465.03</td>\n",
       "      <td>MaldaLocality,Malda</td>\n",
       "      <td>2024-07-21</td>\n",
       "      <td>True</td>\n",
       "      <td>21</td>\n",
       "      <td>7</td>\n",
       "      <td>2024</td>\n",
       "    </tr>\n",
       "    <tr>\n",
       "      <th>1</th>\n",
       "      <td>6011530633</td>\n",
       "      <td>Faasos-Wraps,Rolls&amp;Shawarma</td>\n",
       "      <td>195.53</td>\n",
       "      <td>VijayNagar,Indore</td>\n",
       "      <td>2024-07-18</td>\n",
       "      <td>True</td>\n",
       "      <td>18</td>\n",
       "      <td>7</td>\n",
       "      <td>2024</td>\n",
       "    </tr>\n",
       "    <tr>\n",
       "      <th>2</th>\n",
       "      <td>5991427971</td>\n",
       "      <td>NafeesRestaurant</td>\n",
       "      <td>255.58</td>\n",
       "      <td>OldPalasia,Indore</td>\n",
       "      <td>2024-07-17</td>\n",
       "      <td>True</td>\n",
       "      <td>17</td>\n",
       "      <td>7</td>\n",
       "      <td>2024</td>\n",
       "    </tr>\n",
       "    <tr>\n",
       "      <th>3</th>\n",
       "      <td>6002678112</td>\n",
       "      <td>PizzaHut</td>\n",
       "      <td>335.28</td>\n",
       "      <td>VijayNagar,Indore</td>\n",
       "      <td>2024-07-15</td>\n",
       "      <td>True</td>\n",
       "      <td>15</td>\n",
       "      <td>7</td>\n",
       "      <td>2024</td>\n",
       "    </tr>\n",
       "    <tr>\n",
       "      <th>4</th>\n",
       "      <td>5994764122</td>\n",
       "      <td>NafeesRestaurant</td>\n",
       "      <td>428.33</td>\n",
       "      <td>OldPalasia,Indore</td>\n",
       "      <td>2024-07-13</td>\n",
       "      <td>True</td>\n",
       "      <td>13</td>\n",
       "      <td>7</td>\n",
       "      <td>2024</td>\n",
       "    </tr>\n",
       "    <tr>\n",
       "      <th>...</th>\n",
       "      <td>...</td>\n",
       "      <td>...</td>\n",
       "      <td>...</td>\n",
       "      <td>...</td>\n",
       "      <td>...</td>\n",
       "      <td>...</td>\n",
       "      <td>...</td>\n",
       "      <td>...</td>\n",
       "      <td>...</td>\n",
       "    </tr>\n",
       "    <tr>\n",
       "      <th>152</th>\n",
       "      <td>4929912191</td>\n",
       "      <td>BiryaniBlues</td>\n",
       "      <td>596.15</td>\n",
       "      <td>Phase5,Chandigarh</td>\n",
       "      <td>2023-06-08</td>\n",
       "      <td>False</td>\n",
       "      <td>8</td>\n",
       "      <td>6</td>\n",
       "      <td>2023</td>\n",
       "    </tr>\n",
       "    <tr>\n",
       "      <th>153</th>\n",
       "      <td>2207885313</td>\n",
       "      <td>SuperHajiBiryani</td>\n",
       "      <td>213.70</td>\n",
       "      <td>MaldaLocality,Malda</td>\n",
       "      <td>2022-03-27</td>\n",
       "      <td>True</td>\n",
       "      <td>27</td>\n",
       "      <td>3</td>\n",
       "      <td>2022</td>\n",
       "    </tr>\n",
       "    <tr>\n",
       "      <th>154</th>\n",
       "      <td>3573997604</td>\n",
       "      <td>Mouchak</td>\n",
       "      <td>226.25</td>\n",
       "      <td>MaldaLocality,Malda</td>\n",
       "      <td>2022-03-21</td>\n",
       "      <td>True</td>\n",
       "      <td>21</td>\n",
       "      <td>3</td>\n",
       "      <td>2022</td>\n",
       "    </tr>\n",
       "    <tr>\n",
       "      <th>155</th>\n",
       "      <td>2527475716</td>\n",
       "      <td>Mouchak</td>\n",
       "      <td>226.25</td>\n",
       "      <td>MaldaLocality,Malda</td>\n",
       "      <td>2022-03-27</td>\n",
       "      <td>False</td>\n",
       "      <td>27</td>\n",
       "      <td>3</td>\n",
       "      <td>2022</td>\n",
       "    </tr>\n",
       "    <tr>\n",
       "      <th>156</th>\n",
       "      <td>3271547859</td>\n",
       "      <td>Lazeez</td>\n",
       "      <td>1896.55</td>\n",
       "      <td>MaldaLocality,Malda</td>\n",
       "      <td>2022-03-21</td>\n",
       "      <td>True</td>\n",
       "      <td>21</td>\n",
       "      <td>3</td>\n",
       "      <td>2022</td>\n",
       "    </tr>\n",
       "  </tbody>\n",
       "</table>\n",
       "<p>157 rows × 9 columns</p>\n",
       "</div>"
      ],
      "text/plain": [
       "        OrderNo                    StoreName     Cost             Location  \\\n",
       "0    6017991178                          KFC   465.03  MaldaLocality,Malda   \n",
       "1    6011530633  Faasos-Wraps,Rolls&Shawarma   195.53    VijayNagar,Indore   \n",
       "2    5991427971             NafeesRestaurant   255.58    OldPalasia,Indore   \n",
       "3    6002678112                     PizzaHut   335.28    VijayNagar,Indore   \n",
       "4    5994764122             NafeesRestaurant   428.33    OldPalasia,Indore   \n",
       "..          ...                          ...      ...                  ...   \n",
       "152  4929912191                 BiryaniBlues   596.15    Phase5,Chandigarh   \n",
       "153  2207885313             SuperHajiBiryani   213.70  MaldaLocality,Malda   \n",
       "154  3573997604                      Mouchak   226.25  MaldaLocality,Malda   \n",
       "155  2527475716                      Mouchak   226.25  MaldaLocality,Malda   \n",
       "156  3271547859                       Lazeez  1896.55  MaldaLocality,Malda   \n",
       "\n",
       "          Date  Status  Day  Month  Year  \n",
       "0   2024-07-21    True   21      7  2024  \n",
       "1   2024-07-18    True   18      7  2024  \n",
       "2   2024-07-17    True   17      7  2024  \n",
       "3   2024-07-15    True   15      7  2024  \n",
       "4   2024-07-13    True   13      7  2024  \n",
       "..         ...     ...  ...    ...   ...  \n",
       "152 2023-06-08   False    8      6  2023  \n",
       "153 2022-03-27    True   27      3  2022  \n",
       "154 2022-03-21    True   21      3  2022  \n",
       "155 2022-03-27   False   27      3  2022  \n",
       "156 2022-03-21    True   21      3  2022  \n",
       "\n",
       "[157 rows x 9 columns]"
      ]
     },
     "execution_count": 21,
     "metadata": {},
     "output_type": "execute_result"
    }
   ],
   "source": [
    "df = pd.read_csv(\"reports.csv\")\n",
    "df['Date'] = pd.to_datetime(df['Date'], format='%d %B %Y')\n",
    "df['Day'] = df['Date'].dt.day\n",
    "df['Month'] = df['Date'].dt.month\n",
    "df['Year'] = df['Date'].dt.year\n",
    "df"
   ]
  },
  {
   "cell_type": "code",
   "execution_count": 39,
   "id": "e1c07b47-c5dc-471f-9e4d-fed9055975f4",
   "metadata": {},
   "outputs": [],
   "source": [
    "success_reject_order = df.groupby(\"Status\").Cost.sum()\n",
    "cost_list = success_reject_order.tolist()\n",
    "status = success_reject_order.index.tolist()"
   ]
  },
  {
   "cell_type": "code",
   "execution_count": 97,
   "id": "a7098078-0656-4fbc-b2da-033ad227c58c",
   "metadata": {},
   "outputs": [
    {
     "data": {
      "text/plain": [
       "Text(0.5, 0, 'Total Amount Rs: 53885.94')"
      ]
     },
     "execution_count": 97,
     "metadata": {},
     "output_type": "execute_result"
    },
    {
     "data": {
      "image/png": "[encoded data removed]",
      "text/plain": [
       "<Figure size 640x480 with 1 Axes>"
      ]
     },
     "metadata": {},
     "output_type": "display_data"
    }
   ],
   "source": [
    "plt.pie(cost_list, labels=cost_list, autopct='%1.1f%%')\n",
    "plt.title(\"Total Orders Average Reports\")\n",
    "plt.xlabel(f\"Total Amount Rs: {success_reject_order.sum()}\")\n"
   ]
  },
  {
   "cell_type": "code",
   "execution_count": 131,
   "id": "44d2523e-e684-4437-ae02-da2b18d69872",
   "metadata": {},
   "outputs": [],
   "source": [
    "def report_by_year(year):\n",
    "    monthly_report = df[df.Status==True]\n",
    "    monthly_report = monthly_report[monthly_report.Year==year].groupby(\"Month\").Cost.sum()\n",
    "    \n",
    "    month_index = monthly_report.index.to_list()\n",
    "    month_value = monthly_report.to_list()\n",
    "    \n",
    "    month_dict = {\n",
    "        1:\"Jan\", 2:\"Feb\", 3:\"Mar\",\n",
    "        4:\"Apr\", 5:\"May\", 6:\"Jun\",\n",
    "        7:\"Jul\", 8:\"Aug\", 9:\"Sep\",\n",
    "        10:\"Oct\",11:\"Nov\", 12:\"Dec\"\n",
    "    }\n",
    "    data = []\n",
    "    for i in range(1,13):\n",
    "        if i in month_index:\n",
    "            index = month_index.index(i)\n",
    "            data.append(month_value[index])\n",
    "        else:\n",
    "            data.append(0)\n",
    "\n",
    "    print(data)\n",
    "    plt.plot(month_dict.values(), data)\n",
    "    plt.title(f\"Monthly Report {year}\")\n",
    "    \n",
    "    "
   ]
  },
  {
   "cell_type": "code",
   "execution_count": 139,
   "id": "7cf5e591-9976-484f-a3de-6d9d7b543d65",
   "metadata": {},
   "outputs": [
    {
     "name": "stdout",
     "output_type": "stream",
     "text": [
      "[0, 0, 2336.5, 0, 0, 0, 0, 0, 0, 0, 0, 0]\n"
     ]
    },
    {
     "data": {
      "image/png": "[encoded data removed]",
      "text/plain": [
       "<Figure size 640x480 with 1 Axes>"
      ]
     },
     "metadata": {},
     "output_type": "display_data"
    }
   ],
   "source": [
    "report_by_year(2022)\n",
    "# report_by_year(2023)\n",
    "# report_by_year(2024)"
   ]
  },
  {
   "cell_type": "code",
   "execution_count": null,
   "id": "6d5a6e0e-731b-427b-bc75-de68e61a26f7",
   "metadata": {},
   "outputs": [],
   "source": []
  }
 ],
 "metadata": {
  "kernelspec": {
   "display_name": "Python 3 (ipykernel)",
   "language": "python",
   "name": "python3"
  },
  "language_info": {
   "codemirror_mode": {
    "name": "ipython",
    "version": 3
   },
   "file_extension": ".py",
   "mimetype": "text/x-python",
   "name": "python",
   "nbconvert_exporter": "python",
   "pygments_lexer": "ipython3",
   "version": "3.11.6"
  }
 },
 "nbformat": 4,
 "nbformat_minor": 5
}
